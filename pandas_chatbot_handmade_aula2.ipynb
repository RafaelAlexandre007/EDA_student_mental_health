{
  "nbformat": 4,
  "nbformat_minor": 0,
  "metadata": {
    "colab": {
      "provenance": []
    },
    "kernelspec": {
      "name": "python3",
      "display_name": "Python 3"
    },
    "language_info": {
      "name": "python"
    }
  },
  "cells": [
    {
      "cell_type": "code",
      "execution_count": null,
      "metadata": {
        "id": "e_Qni8DcI303"
      },
      "outputs": [],
      "source": [
        "%pip  install llama-index-experimental\n",
        "%pip install llama-index-llms-groq\n",
        "%pip install python-dotenv\n"
      ]
    },
    {
      "cell_type": "code",
      "source": [
        "from llama_index.core.query_pipeline import (\n",
        "    QueryPipeline as QP,\n",
        "    Link,\n",
        "    InputComponent,\n",
        ")\n",
        "from llama_index.experimental.query_engine.pandas import (\n",
        "    PandasInstructionParser,\n",
        ")\n",
        "from llama_index.core import PromptTemplate\n",
        "import pandas as pd\n",
        "from llama_index.llms.groq import Groq\n",
        "import os\n",
        "from dotenv import load_dotenv\n",
        "\n",
        "load_dotenv('/content/drive/MyDrive/.env')"
      ],
      "metadata": {
        "colab": {
          "base_uri": "https://localhost:8080/"
        },
        "id": "duob3jPzI7AC",
        "outputId": "4cc5fd9d-d236-4446-cccc-b8688cbdbb1b"
      },
      "execution_count": 24,
      "outputs": [
        {
          "output_type": "execute_result",
          "data": {
            "text/plain": [
              "True"
            ]
          },
          "metadata": {},
          "execution_count": 24
        }
      ]
    },
    {
      "cell_type": "code",
      "source": [
        "# Cria um DataFrame pandas com dados de exemplo.\n",
        "\n",
        "df = pd.DataFrame({\n",
        "    'Nome': ['Alice', 'Bob', 'Charlie', 'David'],\n",
        "    'Idade': [25, 30, 35,2]})"
      ],
      "metadata": {
        "id": "Kb3eJm4zJGZb"
      },
      "execution_count": 25,
      "outputs": []
    },
    {
      "cell_type": "code",
      "source": [
        "# Define uma string de instrução para converter consultas em código Python executável usando Pandas.\n",
        "\n",
        "instruction_str = (\n",
        "    \"1. Convert the query to executable Python code using Pandas.\\n\"\n",
        "    \"2. The final line of code should be a Python expression that can be called with the `eval()` function.\\n\"\n",
        "    \"3. The code should represent a solution to the query.\\n\"\n",
        "    \"4. PRINT ONLY THE EXPRESSION.\\n\"\n",
        "    \"5. Do not quote the expression.\\n\"\n",
        ")\n",
        "\n",
        "# Define um template qpde prompt para interagir com o DataFrame pandas.\n",
        "\n",
        "pandas_prompt_str = (\n",
        "    \"You are working with a pandas dataframe in Python.\\n\"\n",
        "    \"The name of the dataframe is `df`.\\n\"\n",
        "    \"This is the result of `print(df.head())`:\\n\"\n",
        "    \"{df_str}\\n\\n\"\n",
        "    \"Follow these instructions:\\n\"\n",
        "    \"{instruction_str}\\n\"\n",
        "    \"Query: {query_str}\\n\\n\"\n",
        "    \"Expression:\"\n",
        ")\n",
        "\n",
        "# Define um template de prompt para sintetizar uma resposta dos resultados da consulta.\n",
        "\n",
        "response_synthesis_prompt_str = (\n",
        "    \"Given an input question, synthesize a response from the query results.\\n\"\n",
        "    \"Query: {query_str}\\n\\n\"\n",
        "    \"Pandas Instructions (optional):\\n{pandas_instructions}\\n\\n\"\n",
        "    \"Pandas Output: {pandas_output}\\n\\n\"\n",
        "    \"Response: \"\n",
        ")\n",
        "\n",
        "# Cria um PromptTemplate para o prompt do pandas.\n",
        "pandas_prompt = PromptTemplate(pandas_prompt_str).partial_format(\n",
        "    instruction_str=instruction_str, df_str=df.head(5)\n",
        ")\n",
        "\n",
        "# Cria um PandasInstructionParser para analisar as instruções do pandas.\n",
        "pandas_output_parser = PandasInstructionParser(df)\n",
        "\n",
        "# Cria um PromptTemplate para o prompt de síntese de resposta.\n",
        "response_synthesis_prompt = PromptTemplate(response_synthesis_prompt_str)\n",
        "\n",
        "# Inicializa um modelo de linguagem com Groq.\n",
        "llm = Groq(model=\"llama3-70b-8192\", api_key=os.getenv(\"API_KEY_GROQ\"))"
      ],
      "metadata": {
        "id": "FmppzrAQJLBn"
      },
      "execution_count": 27,
      "outputs": []
    },
    {
      "cell_type": "code",
      "source": [
        "# Cria um QueryPipeline com os módulos necessários.\n",
        "\n",
        "qp = QP(\n",
        "    modules={\n",
        "        \"input\": InputComponent(),\n",
        "        \"pandas_prompt\": pandas_prompt,\n",
        "        \"llm1\": llm,\n",
        "        \"pandas_output_parser\": pandas_output_parser,\n",
        "        \"response_synthesis_prompt\": response_synthesis_prompt,\n",
        "        \"llm2\": llm,\n",
        "    },\n",
        "    verbose=True,\n",
        ")\n",
        "\n",
        "# Adiciona uma cadeia ao QueryPipeline para processar a consulta.\n",
        "\n",
        "qp.add_chain([\"input\", \"pandas_prompt\", \"llm1\", \"pandas_output_parser\"])\n",
        "\n",
        "# Adiciona links ao QueryPipeline para conectar os módulos.\n",
        "\n",
        "qp.add_links(\n",
        "    [\n",
        "        Link(\"input\", \"response_synthesis_prompt\", dest_key=\"query_str\"),\n",
        "        Link(\n",
        "            \"llm1\", \"response_synthesis_prompt\", dest_key=\"pandas_instructions\"\n",
        "        ),\n",
        "        Link(\n",
        "            \"pandas_output_parser\",\n",
        "            \"response_synthesis_prompt\",\n",
        "            dest_key=\"pandas_output\",\n",
        "        ),\n",
        "    ]\n",
        ")\n",
        "\n",
        "# Adiciona um link do prompt de síntese de resposta para llm2.\n",
        "qp.add_link(\"response_synthesis_prompt\", \"llm2\")"
      ],
      "metadata": {
        "id": "YAOsExHwLOp9"
      },
      "execution_count": 29,
      "outputs": []
    },
    {
      "cell_type": "code",
      "source": [
        "# Executa o QueryPipeline com uma consulta de exemplo.\n",
        "response = qp.run(\n",
        "    query_str=\"Qual a população da cidade de Mumbai?\",\n",
        ")"
      ],
      "metadata": {
        "id": "MQ6d7DpAL1gO"
      },
      "execution_count": null,
      "outputs": []
    },
    {
      "cell_type": "code",
      "source": [
        "# Executa o QueryPipeline com uma consulta de exemplo.\n",
        "\n",
        "print(response.message.content)"
      ],
      "metadata": {
        "id": "vnfWFf9NL8Ks"
      },
      "execution_count": null,
      "outputs": []
    },
    {
      "cell_type": "code",
      "source": [],
      "metadata": {
        "id": "8fQv7Eu-MFUR"
      },
      "execution_count": null,
      "outputs": []
    }
  ]
}